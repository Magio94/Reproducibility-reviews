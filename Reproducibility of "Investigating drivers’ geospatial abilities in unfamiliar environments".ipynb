{
 "cells": [
  {
   "cell_type": "code",
   "execution_count": 1,
   "id": "68867ccc",
   "metadata": {},
   "outputs": [
    {
     "name": "stderr",
     "output_type": "stream",
     "text": [
      "── \u001b[1mAttaching packages\u001b[22m ─────────────────────────────────────── tidyverse 1.3.1 ──\n",
      "\n",
      "\u001b[32m✔\u001b[39m \u001b[34mggplot2\u001b[39m 3.3.3     \u001b[32m✔\u001b[39m \u001b[34mpurrr  \u001b[39m 0.3.4\n",
      "\u001b[32m✔\u001b[39m \u001b[34mtibble \u001b[39m 3.1.1     \u001b[32m✔\u001b[39m \u001b[34mdplyr  \u001b[39m 1.0.6\n",
      "\u001b[32m✔\u001b[39m \u001b[34mtidyr  \u001b[39m 1.1.3     \u001b[32m✔\u001b[39m \u001b[34mstringr\u001b[39m 1.4.0\n",
      "\u001b[32m✔\u001b[39m \u001b[34mreadr  \u001b[39m 1.4.0     \u001b[32m✔\u001b[39m \u001b[34mforcats\u001b[39m 0.5.1\n",
      "\n",
      "── \u001b[1mConflicts\u001b[22m ────────────────────────────────────────── tidyverse_conflicts() ──\n",
      "\u001b[31m✖\u001b[39m \u001b[34mdplyr\u001b[39m::\u001b[32mfilter()\u001b[39m masks \u001b[34mstats\u001b[39m::filter()\n",
      "\u001b[31m✖\u001b[39m \u001b[34mdplyr\u001b[39m::\u001b[32mlag()\u001b[39m    masks \u001b[34mstats\u001b[39m::lag()\n",
      "\n"
     ]
    }
   ],
   "source": [
    "# This script includes all steps for the statistical analysis of the paper:\n",
    "# \"Investigating drivers' geospatial abilities in unfamiliar environments\".\n",
    "# It helps also generate the contents of Tables 1 and 2 and plots Figure 4 of the paper.\n",
    "# The steps are presented with the same order as they are mentioned in the text.\n",
    "# All data required to run the script are on the same repository as this script (drivers_data.7z).\n",
    "library(tidyverse)"
   ]
  },
  {
   "cell_type": "code",
   "execution_count": 23,
   "id": "483c2231",
   "metadata": {},
   "outputs": [
    {
     "name": "stderr",
     "output_type": "stream",
     "text": [
      "\n",
      "\u001b[36m──\u001b[39m \u001b[1m\u001b[1mColumn specification\u001b[1m\u001b[22m \u001b[36m────────────────────────────────────────────────────────\u001b[39m\n",
      "cols(\n",
      "  Group = \u001b[31mcol_character()\u001b[39m,\n",
      "  P_id = \u001b[32mcol_double()\u001b[39m,\n",
      "  age = \u001b[32mcol_double()\u001b[39m,\n",
      "  gender = \u001b[31mcol_character()\u001b[39m,\n",
      "  familiarity = \u001b[32mcol_double()\u001b[39m\n",
      ")\n",
      "\n",
      "\n"
     ]
    }
   ],
   "source": [
    "Demographics <- read_csv(\"Demographics.csv\")"
   ]
  },
  {
   "cell_type": "code",
   "execution_count": 24,
   "id": "d34ca77f",
   "metadata": {},
   "outputs": [
    {
     "data": {
      "text/html": [
       "<table class=\"dataframe\">\n",
       "<caption>A spec_tbl_df: 25 × 5</caption>\n",
       "<thead>\n",
       "\t<tr><th scope=col>Group</th><th scope=col>P_id</th><th scope=col>age</th><th scope=col>gender</th><th scope=col>familiarity</th></tr>\n",
       "\t<tr><th scope=col>&lt;chr&gt;</th><th scope=col>&lt;dbl&gt;</th><th scope=col>&lt;dbl&gt;</th><th scope=col>&lt;chr&gt;</th><th scope=col>&lt;dbl&gt;</th></tr>\n",
       "</thead>\n",
       "<tbody>\n",
       "\t<tr><td>Group1</td><td> 1</td><td>67</td><td>male  </td><td>5</td></tr>\n",
       "\t<tr><td>Group1</td><td> 2</td><td>67</td><td>male  </td><td>2</td></tr>\n",
       "\t<tr><td>Group1</td><td> 3</td><td>37</td><td>female</td><td>2</td></tr>\n",
       "\t<tr><td>Group1</td><td> 4</td><td>25</td><td>female</td><td>1</td></tr>\n",
       "\t<tr><td>Group1</td><td> 5</td><td>59</td><td>female</td><td>2</td></tr>\n",
       "\t<tr><td>Group1</td><td> 6</td><td>25</td><td>male  </td><td>1</td></tr>\n",
       "\t<tr><td>Group1</td><td> 7</td><td>36</td><td>male  </td><td>2</td></tr>\n",
       "\t<tr><td>Group1</td><td> 8</td><td>28</td><td>female</td><td>3</td></tr>\n",
       "\t<tr><td>Group1</td><td> 9</td><td>30</td><td>female</td><td>3</td></tr>\n",
       "\t<tr><td>Group1</td><td>10</td><td>31</td><td>male  </td><td>3</td></tr>\n",
       "\t<tr><td>Group1</td><td>11</td><td>25</td><td>female</td><td>1</td></tr>\n",
       "\t<tr><td>Group1</td><td>12</td><td>39</td><td>male  </td><td>2</td></tr>\n",
       "\t<tr><td>Group2</td><td>13</td><td>71</td><td>female</td><td>5</td></tr>\n",
       "\t<tr><td>Group2</td><td>14</td><td>69</td><td>male  </td><td>2</td></tr>\n",
       "\t<tr><td>Group2</td><td>15</td><td>65</td><td>male  </td><td>2</td></tr>\n",
       "\t<tr><td>Group2</td><td>16</td><td>54</td><td>female</td><td>2</td></tr>\n",
       "\t<tr><td>Group2</td><td>17</td><td>50</td><td>female</td><td>2</td></tr>\n",
       "\t<tr><td>Group2</td><td>18</td><td>45</td><td>female</td><td>1</td></tr>\n",
       "\t<tr><td>Group2</td><td>19</td><td>34</td><td>male  </td><td>3</td></tr>\n",
       "\t<tr><td>Group2</td><td>20</td><td>56</td><td>female</td><td>4</td></tr>\n",
       "\t<tr><td>Group2</td><td>21</td><td>64</td><td>female</td><td>2</td></tr>\n",
       "\t<tr><td>Group2</td><td>22</td><td>50</td><td>male  </td><td>1</td></tr>\n",
       "\t<tr><td>Group2</td><td>23</td><td>25</td><td>female</td><td>3</td></tr>\n",
       "\t<tr><td>Group2</td><td>24</td><td>25</td><td>male  </td><td>2</td></tr>\n",
       "\t<tr><td>Group2</td><td>25</td><td>25</td><td>male  </td><td>5</td></tr>\n",
       "</tbody>\n",
       "</table>\n"
      ],
      "text/latex": [
       "A spec\\_tbl\\_df: 25 × 5\n",
       "\\begin{tabular}{lllll}\n",
       " Group & P\\_id & age & gender & familiarity\\\\\n",
       " <chr> & <dbl> & <dbl> & <chr> & <dbl>\\\\\n",
       "\\hline\n",
       "\t Group1 &  1 & 67 & male   & 5\\\\\n",
       "\t Group1 &  2 & 67 & male   & 2\\\\\n",
       "\t Group1 &  3 & 37 & female & 2\\\\\n",
       "\t Group1 &  4 & 25 & female & 1\\\\\n",
       "\t Group1 &  5 & 59 & female & 2\\\\\n",
       "\t Group1 &  6 & 25 & male   & 1\\\\\n",
       "\t Group1 &  7 & 36 & male   & 2\\\\\n",
       "\t Group1 &  8 & 28 & female & 3\\\\\n",
       "\t Group1 &  9 & 30 & female & 3\\\\\n",
       "\t Group1 & 10 & 31 & male   & 3\\\\\n",
       "\t Group1 & 11 & 25 & female & 1\\\\\n",
       "\t Group1 & 12 & 39 & male   & 2\\\\\n",
       "\t Group2 & 13 & 71 & female & 5\\\\\n",
       "\t Group2 & 14 & 69 & male   & 2\\\\\n",
       "\t Group2 & 15 & 65 & male   & 2\\\\\n",
       "\t Group2 & 16 & 54 & female & 2\\\\\n",
       "\t Group2 & 17 & 50 & female & 2\\\\\n",
       "\t Group2 & 18 & 45 & female & 1\\\\\n",
       "\t Group2 & 19 & 34 & male   & 3\\\\\n",
       "\t Group2 & 20 & 56 & female & 4\\\\\n",
       "\t Group2 & 21 & 64 & female & 2\\\\\n",
       "\t Group2 & 22 & 50 & male   & 1\\\\\n",
       "\t Group2 & 23 & 25 & female & 3\\\\\n",
       "\t Group2 & 24 & 25 & male   & 2\\\\\n",
       "\t Group2 & 25 & 25 & male   & 5\\\\\n",
       "\\end{tabular}\n"
      ],
      "text/markdown": [
       "\n",
       "A spec_tbl_df: 25 × 5\n",
       "\n",
       "| Group &lt;chr&gt; | P_id &lt;dbl&gt; | age &lt;dbl&gt; | gender &lt;chr&gt; | familiarity &lt;dbl&gt; |\n",
       "|---|---|---|---|---|\n",
       "| Group1 |  1 | 67 | male   | 5 |\n",
       "| Group1 |  2 | 67 | male   | 2 |\n",
       "| Group1 |  3 | 37 | female | 2 |\n",
       "| Group1 |  4 | 25 | female | 1 |\n",
       "| Group1 |  5 | 59 | female | 2 |\n",
       "| Group1 |  6 | 25 | male   | 1 |\n",
       "| Group1 |  7 | 36 | male   | 2 |\n",
       "| Group1 |  8 | 28 | female | 3 |\n",
       "| Group1 |  9 | 30 | female | 3 |\n",
       "| Group1 | 10 | 31 | male   | 3 |\n",
       "| Group1 | 11 | 25 | female | 1 |\n",
       "| Group1 | 12 | 39 | male   | 2 |\n",
       "| Group2 | 13 | 71 | female | 5 |\n",
       "| Group2 | 14 | 69 | male   | 2 |\n",
       "| Group2 | 15 | 65 | male   | 2 |\n",
       "| Group2 | 16 | 54 | female | 2 |\n",
       "| Group2 | 17 | 50 | female | 2 |\n",
       "| Group2 | 18 | 45 | female | 1 |\n",
       "| Group2 | 19 | 34 | male   | 3 |\n",
       "| Group2 | 20 | 56 | female | 4 |\n",
       "| Group2 | 21 | 64 | female | 2 |\n",
       "| Group2 | 22 | 50 | male   | 1 |\n",
       "| Group2 | 23 | 25 | female | 3 |\n",
       "| Group2 | 24 | 25 | male   | 2 |\n",
       "| Group2 | 25 | 25 | male   | 5 |\n",
       "\n"
      ],
      "text/plain": [
       "   Group  P_id age gender familiarity\n",
       "1  Group1  1   67  male   5          \n",
       "2  Group1  2   67  male   2          \n",
       "3  Group1  3   37  female 2          \n",
       "4  Group1  4   25  female 1          \n",
       "5  Group1  5   59  female 2          \n",
       "6  Group1  6   25  male   1          \n",
       "7  Group1  7   36  male   2          \n",
       "8  Group1  8   28  female 3          \n",
       "9  Group1  9   30  female 3          \n",
       "10 Group1 10   31  male   3          \n",
       "11 Group1 11   25  female 1          \n",
       "12 Group1 12   39  male   2          \n",
       "13 Group2 13   71  female 5          \n",
       "14 Group2 14   69  male   2          \n",
       "15 Group2 15   65  male   2          \n",
       "16 Group2 16   54  female 2          \n",
       "17 Group2 17   50  female 2          \n",
       "18 Group2 18   45  female 1          \n",
       "19 Group2 19   34  male   3          \n",
       "20 Group2 20   56  female 4          \n",
       "21 Group2 21   64  female 2          \n",
       "22 Group2 22   50  male   1          \n",
       "23 Group2 23   25  female 3          \n",
       "24 Group2 24   25  male   2          \n",
       "25 Group2 25   25  male   5          "
      ]
     },
     "metadata": {},
     "output_type": "display_data"
    }
   ],
   "source": [
    "Demographics"
   ]
  },
  {
   "cell_type": "code",
   "execution_count": 25,
   "id": "a70b707b",
   "metadata": {},
   "outputs": [
    {
     "data": {
      "text/html": [
       "<table class=\"dataframe\">\n",
       "<caption>A data.frame: 2 × 2</caption>\n",
       "<thead>\n",
       "\t<tr><th scope=col>Group.1</th><th scope=col>age</th></tr>\n",
       "\t<tr><th scope=col>&lt;chr&gt;</th><th scope=col>&lt;dbl&gt;</th></tr>\n",
       "</thead>\n",
       "<tbody>\n",
       "\t<tr><td>Group1</td><td>39.08333</td></tr>\n",
       "\t<tr><td>Group2</td><td>48.69231</td></tr>\n",
       "</tbody>\n",
       "</table>\n"
      ],
      "text/latex": [
       "A data.frame: 2 × 2\n",
       "\\begin{tabular}{ll}\n",
       " Group.1 & age\\\\\n",
       " <chr> & <dbl>\\\\\n",
       "\\hline\n",
       "\t Group1 & 39.08333\\\\\n",
       "\t Group2 & 48.69231\\\\\n",
       "\\end{tabular}\n"
      ],
      "text/markdown": [
       "\n",
       "A data.frame: 2 × 2\n",
       "\n",
       "| Group.1 &lt;chr&gt; | age &lt;dbl&gt; |\n",
       "|---|---|\n",
       "| Group1 | 39.08333 |\n",
       "| Group2 | 48.69231 |\n",
       "\n"
      ],
      "text/plain": [
       "  Group.1 age     \n",
       "1 Group1  39.08333\n",
       "2 Group2  48.69231"
      ]
     },
     "metadata": {},
     "output_type": "display_data"
    },
    {
     "data": {
      "text/html": [
       "<table class=\"dataframe\">\n",
       "<caption>A data.frame: 2 × 2</caption>\n",
       "<thead>\n",
       "\t<tr><th scope=col>Group.1</th><th scope=col>age</th></tr>\n",
       "\t<tr><th scope=col>&lt;chr&gt;</th><th scope=col>&lt;dbl&gt;</th></tr>\n",
       "</thead>\n",
       "<tbody>\n",
       "\t<tr><td>Group1</td><td>16.05365</td></tr>\n",
       "\t<tr><td>Group2</td><td>16.85420</td></tr>\n",
       "</tbody>\n",
       "</table>\n"
      ],
      "text/latex": [
       "A data.frame: 2 × 2\n",
       "\\begin{tabular}{ll}\n",
       " Group.1 & age\\\\\n",
       " <chr> & <dbl>\\\\\n",
       "\\hline\n",
       "\t Group1 & 16.05365\\\\\n",
       "\t Group2 & 16.85420\\\\\n",
       "\\end{tabular}\n"
      ],
      "text/markdown": [
       "\n",
       "A data.frame: 2 × 2\n",
       "\n",
       "| Group.1 &lt;chr&gt; | age &lt;dbl&gt; |\n",
       "|---|---|\n",
       "| Group1 | 16.05365 |\n",
       "| Group2 | 16.85420 |\n",
       "\n"
      ],
      "text/plain": [
       "  Group.1 age     \n",
       "1 Group1  16.05365\n",
       "2 Group2  16.85420"
      ]
     },
     "metadata": {},
     "output_type": "display_data"
    },
    {
     "data": {
      "text/html": [
       "<table class=\"dataframe\">\n",
       "<caption>A data.frame: 2 × 2</caption>\n",
       "<thead>\n",
       "\t<tr><th scope=col>Group.1</th><th scope=col>familiarity</th></tr>\n",
       "\t<tr><th scope=col>&lt;chr&gt;</th><th scope=col>&lt;dbl&gt;</th></tr>\n",
       "</thead>\n",
       "<tbody>\n",
       "\t<tr><td>Group1</td><td>2.250000</td></tr>\n",
       "\t<tr><td>Group2</td><td>2.615385</td></tr>\n",
       "</tbody>\n",
       "</table>\n"
      ],
      "text/latex": [
       "A data.frame: 2 × 2\n",
       "\\begin{tabular}{ll}\n",
       " Group.1 & familiarity\\\\\n",
       " <chr> & <dbl>\\\\\n",
       "\\hline\n",
       "\t Group1 & 2.250000\\\\\n",
       "\t Group2 & 2.615385\\\\\n",
       "\\end{tabular}\n"
      ],
      "text/markdown": [
       "\n",
       "A data.frame: 2 × 2\n",
       "\n",
       "| Group.1 &lt;chr&gt; | familiarity &lt;dbl&gt; |\n",
       "|---|---|\n",
       "| Group1 | 2.250000 |\n",
       "| Group2 | 2.615385 |\n",
       "\n"
      ],
      "text/plain": [
       "  Group.1 familiarity\n",
       "1 Group1  2.250000   \n",
       "2 Group2  2.615385   "
      ]
     },
     "metadata": {},
     "output_type": "display_data"
    },
    {
     "data": {
      "text/html": [
       "<table class=\"dataframe\">\n",
       "<caption>A data.frame: 2 × 2</caption>\n",
       "<thead>\n",
       "\t<tr><th scope=col>Group.1</th><th scope=col>familiarity</th></tr>\n",
       "\t<tr><th scope=col>&lt;chr&gt;</th><th scope=col>&lt;dbl&gt;</th></tr>\n",
       "</thead>\n",
       "<tbody>\n",
       "\t<tr><td>Group1</td><td>1.138180</td></tr>\n",
       "\t<tr><td>Group2</td><td>1.325296</td></tr>\n",
       "</tbody>\n",
       "</table>\n"
      ],
      "text/latex": [
       "A data.frame: 2 × 2\n",
       "\\begin{tabular}{ll}\n",
       " Group.1 & familiarity\\\\\n",
       " <chr> & <dbl>\\\\\n",
       "\\hline\n",
       "\t Group1 & 1.138180\\\\\n",
       "\t Group2 & 1.325296\\\\\n",
       "\\end{tabular}\n"
      ],
      "text/markdown": [
       "\n",
       "A data.frame: 2 × 2\n",
       "\n",
       "| Group.1 &lt;chr&gt; | familiarity &lt;dbl&gt; |\n",
       "|---|---|\n",
       "| Group1 | 1.138180 |\n",
       "| Group2 | 1.325296 |\n",
       "\n"
      ],
      "text/plain": [
       "  Group.1 familiarity\n",
       "1 Group1  1.138180   \n",
       "2 Group2  1.325296   "
      ]
     },
     "metadata": {},
     "output_type": "display_data"
    }
   ],
   "source": [
    "aggregate(\n",
    "  Demographics[, 3],\n",
    "  list(Demographics$Group), mean\n",
    ")\n",
    "aggregate(\n",
    "  Demographics[, 3],\n",
    "  list(Demographics$Group), sd\n",
    ")\n",
    "aggregate(\n",
    "  Demographics[, 5],\n",
    "  list(Demographics$Group), mean\n",
    ")\n",
    "aggregate(\n",
    "  Demographics[, 5],\n",
    "  list(Demographics$Group), sd\n",
    ")"
   ]
  },
  {
   "cell_type": "code",
   "execution_count": 26,
   "id": "81367fe0",
   "metadata": {},
   "outputs": [
    {
     "name": "stderr",
     "output_type": "stream",
     "text": [
      "\n",
      "\u001b[36m──\u001b[39m \u001b[1m\u001b[1mColumn specification\u001b[1m\u001b[22m \u001b[36m────────────────────────────────────────────────────────\u001b[39m\n",
      "cols(\n",
      "  Group = \u001b[31mcol_character()\u001b[39m,\n",
      "  P_ID = \u001b[32mcol_double()\u001b[39m,\n",
      "  Q1 = \u001b[32mcol_double()\u001b[39m,\n",
      "  Q2 = \u001b[32mcol_double()\u001b[39m,\n",
      "  Q3 = \u001b[32mcol_double()\u001b[39m,\n",
      "  Q4 = \u001b[32mcol_double()\u001b[39m,\n",
      "  Q5 = \u001b[32mcol_double()\u001b[39m,\n",
      "  Q6 = \u001b[32mcol_double()\u001b[39m,\n",
      "  Q7 = \u001b[32mcol_double()\u001b[39m,\n",
      "  Q8 = \u001b[32mcol_double()\u001b[39m,\n",
      "  Q9 = \u001b[32mcol_double()\u001b[39m,\n",
      "  Q10 = \u001b[32mcol_double()\u001b[39m,\n",
      "  Q11 = \u001b[32mcol_double()\u001b[39m,\n",
      "  Q12 = \u001b[32mcol_double()\u001b[39m,\n",
      "  Q13 = \u001b[32mcol_double()\u001b[39m,\n",
      "  Q14 = \u001b[32mcol_double()\u001b[39m,\n",
      "  Q15 = \u001b[32mcol_double()\u001b[39m\n",
      ")\n",
      "\n",
      "\n"
     ]
    },
    {
     "data": {
      "text/plain": [
       "\n",
       "\tShapiro-Wilk normality test\n",
       "\n",
       "data:  SBSoD1\n",
       "W = 0.85811, p-value = 0.04629\n"
      ]
     },
     "metadata": {},
     "output_type": "display_data"
    },
    {
     "data": {
      "text/plain": [
       "\n",
       "\tShapiro-Wilk normality test\n",
       "\n",
       "data:  SBSoD2\n",
       "W = 0.89603, p-value = 0.118\n"
      ]
     },
     "metadata": {},
     "output_type": "display_data"
    },
    {
     "data": {
      "text/plain": [
       "\n",
       "\tWilcoxon rank sum test with continuity correction\n",
       "\n",
       "data:  SBSoD1 and SBSoD2\n",
       "W = 47.5, p-value = 0.1023\n",
       "alternative hypothesis: true location shift is not equal to 0\n"
      ]
     },
     "metadata": {},
     "output_type": "display_data"
    }
   ],
   "source": [
    "# SBSod_scored.csv includes the scored SBSoD Scale; reversed when necessary etc. \n",
    "\n",
    "SBSoD_scored <- read_csv(\"SBSoD_scored.csv\")\n",
    "\n",
    "SBSoDGroup1 <- SBSoD_scored[1:12, 1:17]\n",
    "SBSoDGroup2 <- SBSoD_scored[13:25, 1:17]\n",
    "\n",
    "SBSoD1 <- rowMeans(SBSoDGroup1[, 3:17])\n",
    "SBSoD2 <- rowMeans(SBSoDGroup2[, 3:17])\n",
    "\n",
    "SBSoD1Desc <- data.frame(\n",
    "  mean(SBSoD1),\n",
    "  sd(SBSoD1)\n",
    ")\n",
    "\n",
    "SBSoD2Desc <- data.frame(\n",
    "  mean(SBSoD2),\n",
    "  sd(SBSoD2)\n",
    ")\n",
    "colnames(SBSoD1Desc) <- c(\"Mean\", \"SD\")\n",
    "colnames(SBSoD2Desc) <- c(\"Mean\", \"SD\")\n",
    "shapiro.test(SBSoD1)\n",
    "shapiro.test(SBSoD2)\n",
    "wilcox.test(SBSoD1, SBSoD2,\n",
    "  exact = FALSE\n",
    ")"
   ]
  },
  {
   "cell_type": "code",
   "execution_count": 27,
   "id": "ddc0da0d",
   "metadata": {},
   "outputs": [
    {
     "name": "stderr",
     "output_type": "stream",
     "text": [
      "\n",
      "\u001b[36m──\u001b[39m \u001b[1m\u001b[1mColumn specification\u001b[1m\u001b[22m \u001b[36m────────────────────────────────────────────────────────\u001b[39m\n",
      "cols(\n",
      "  Group = \u001b[31mcol_character()\u001b[39m,\n",
      "  P_ID = \u001b[32mcol_double()\u001b[39m,\n",
      "  `landmarks omitted` = \u001b[32mcol_double()\u001b[39m,\n",
      "  `road segments` = \u001b[32mcol_double()\u001b[39m,\n",
      "  `wrong turns` = \u001b[32mcol_double()\u001b[39m,\n",
      "  `total map errors` = \u001b[32mcol_double()\u001b[39m,\n",
      "  `landmarks score` = \u001b[32mcol_double()\u001b[39m\n",
      ")\n",
      "\n",
      "\n"
     ]
    },
    {
     "data": {
      "text/plain": [
       "\n",
       "\tShapiro-Wilk normality test\n",
       "\n",
       "data:  MapErrorsGroup1$`total map errors`\n",
       "W = 0.9556, p-value = 0.7197\n"
      ]
     },
     "metadata": {},
     "output_type": "display_data"
    },
    {
     "data": {
      "text/plain": [
       "\n",
       "\tShapiro-Wilk normality test\n",
       "\n",
       "data:  MapErrorsGroup2$`total map errors`\n",
       "W = 0.90269, p-value = 0.1456\n"
      ]
     },
     "metadata": {},
     "output_type": "display_data"
    },
    {
     "data": {
      "text/plain": [
       "\n",
       "\tShapiro-Wilk normality test\n",
       "\n",
       "data:  MapErrorsGroup1$`road segments`\n",
       "W = 0.9239, p-value = 0.3199\n"
      ]
     },
     "metadata": {},
     "output_type": "display_data"
    },
    {
     "data": {
      "text/plain": [
       "\n",
       "\tShapiro-Wilk normality test\n",
       "\n",
       "data:  MapErrorsGroup2$`road segments`\n",
       "W = 0.93114, p-value = 0.3527\n"
      ]
     },
     "metadata": {},
     "output_type": "display_data"
    },
    {
     "data": {
      "text/plain": [
       "\n",
       "\tShapiro-Wilk normality test\n",
       "\n",
       "data:  MapErrorsGroup1$`landmarks omitted`\n",
       "W = 0.94728, p-value = 0.5976\n"
      ]
     },
     "metadata": {},
     "output_type": "display_data"
    },
    {
     "data": {
      "text/plain": [
       "\n",
       "\tShapiro-Wilk normality test\n",
       "\n",
       "data:  MapErrorsGroup2$`landmarks omitted`\n",
       "W = 0.97105, p-value = 0.9065\n"
      ]
     },
     "metadata": {},
     "output_type": "display_data"
    },
    {
     "data": {
      "text/plain": [
       "\n",
       "\tShapiro-Wilk normality test\n",
       "\n",
       "data:  MapErrorsGroup1$`landmarks score`\n",
       "W = 0.95638, p-value = 0.7312\n"
      ]
     },
     "metadata": {},
     "output_type": "display_data"
    },
    {
     "data": {
      "text/plain": [
       "\n",
       "\tShapiro-Wilk normality test\n",
       "\n",
       "data:  MapErrorsGroup2$`landmarks score`\n",
       "W = 0.87896, p-value = 0.06903\n"
      ]
     },
     "metadata": {},
     "output_type": "display_data"
    }
   ],
   "source": [
    "# The file MapErrors.csv contains information on three map sketching elements examined.\n",
    "# It also includes the column \"landmarks score\" to account for \n",
    "# the number of correctly added landmarks on map sketches.\n",
    "\n",
    "MapErrors <- read_csv(\"MapErrors.csv\")\n",
    "\n",
    "MapErrorsGroup1 <- MapErrors[1:12, 1:7]\n",
    "MapErrorsGroup2 <- MapErrors[13:25, 1:7]\n",
    "\n",
    "MapErrorsGroup1Desc <- data.frame(\n",
    "  mean(MapErrorsGroup1$`landmarks omitted`),\n",
    "  sd(MapErrorsGroup1$`landmarks omitted`),\n",
    "  mean(MapErrorsGroup1$`road segments`),\n",
    "  sd(MapErrorsGroup1$`road segments`),\n",
    "  mean(MapErrorsGroup1$`total map errors`),\n",
    "  sd(MapErrorsGroup1$`total map errors`),\n",
    "  mean(MapErrorsGroup1$`landmarks score`),\n",
    "  sd(MapErrorsGroup1$`landmarks score`)\n",
    ")\n",
    "colnames(MapErrorsGroup1Desc) <- c(\n",
    "  \"MeanLandmarksOmitted\", \"SDLandmarksOmitted\",\n",
    "  \"MeanRoadSegments\", \"SDRoadSegments\",\n",
    "  \"MeanTotalMapErrors\", \"SDTotalMapErrors\",\n",
    "  \"MeanLandmarksScore\", \"SDLandmarksScore\"\n",
    ")\n",
    "\n",
    "MapErrorsGroup2Desc <- data.frame(\n",
    "  mean(MapErrorsGroup2$`landmarks omitted`),\n",
    "  sd(MapErrorsGroup2$`landmarks omitted`),\n",
    "  mean(MapErrorsGroup2$`road segments`),\n",
    "  sd(MapErrorsGroup2$`road segments`),\n",
    "  mean(MapErrorsGroup2$`total map errors`),\n",
    "  sd(MapErrorsGroup2$`total map errors`),\n",
    "  mean(MapErrorsGroup2$`landmarks score`),\n",
    "  sd(MapErrorsGroup2$`landmarks score`)\n",
    ")\n",
    "colnames(MapErrorsGroup2Desc) <- c(\n",
    "  \"MeanLandmarksOmitted\",\n",
    "  \"SDLandmarksOmitted\",\n",
    "  \"MeanRoadSegments\",\n",
    "  \"SDRoadSegments\",\n",
    "  \"MeanTotalMapErrors\",\n",
    "  \"SDTotalMapErrors\",\n",
    "  \"MeanLandmarksScore\",\n",
    "  \"SDLandmarksScore\"\n",
    ")\n",
    "shapiro.test(MapErrorsGroup1$`total map errors`)\n",
    "shapiro.test(MapErrorsGroup2$`total map errors`)\n",
    "\n",
    "MapErrorsttest <- t.test(\n",
    "  MapErrorsGroup1$`total map errors`,\n",
    "  MapErrorsGroup2$`total map errors`\n",
    ")\n",
    "shapiro.test(MapErrorsGroup1$`road segments`)\n",
    "shapiro.test(MapErrorsGroup2$`road segments`)\n",
    "Roadsegmentsttest <- t.test(\n",
    "  MapErrorsGroup1$`road segments`,\n",
    "  MapErrorsGroup2$`road segments`\n",
    ")\n",
    "shapiro.test(MapErrorsGroup1$`landmarks omitted`)\n",
    "shapiro.test(MapErrorsGroup2$`landmarks omitted`)\n",
    "Landmarksomittedttest <- t.test(\n",
    "  MapErrorsGroup1$`landmarks omitted`,\n",
    "  MapErrorsGroup2$`landmarks omitted`\n",
    ")\n",
    "shapiro.test(MapErrorsGroup1$`landmarks score`)\n",
    "shapiro.test(MapErrorsGroup2$`landmarks score`)\n",
    "\n",
    "LandmarksScorettest <- t.test(\n",
    "  MapErrorsGroup1$`landmarks score`,\n",
    "  MapErrorsGroup2$`landmarks score`\n",
    ")"
   ]
  },
  {
   "cell_type": "code",
   "execution_count": 29,
   "id": "64d3a56a",
   "metadata": {
    "scrolled": true
   },
   "outputs": [
    {
     "name": "stderr",
     "output_type": "stream",
     "text": [
      "\n",
      "\u001b[36m──\u001b[39m \u001b[1m\u001b[1mColumn specification\u001b[1m\u001b[22m \u001b[36m────────────────────────────────────────────────────────\u001b[39m\n",
      "cols(\n",
      "  Group = \u001b[31mcol_character()\u001b[39m,\n",
      "  P_id = \u001b[32mcol_double()\u001b[39m,\n",
      "  EST_DR1 = \u001b[32mcol_double()\u001b[39m,\n",
      "  EST_DR2 = \u001b[32mcol_double()\u001b[39m,\n",
      "  EST_DR3 = \u001b[32mcol_double()\u001b[39m,\n",
      "  EST_DR4 = \u001b[32mcol_double()\u001b[39m\n",
      ")\n",
      "\n",
      "\n"
     ]
    },
    {
     "data": {
      "text/plain": [
       "\n",
       "\tShapiro-Wilk normality test\n",
       "\n",
       "data:  AASGroup1\n",
       "W = 0.97056, p-value = 0.9166\n"
      ]
     },
     "metadata": {},
     "output_type": "display_data"
    },
    {
     "data": {
      "text/plain": [
       "\n",
       "\tShapiro-Wilk normality test\n",
       "\n",
       "data:  AASGroup2\n",
       "W = 0.83167, p-value = 0.01662\n"
      ]
     },
     "metadata": {},
     "output_type": "display_data"
    },
    {
     "data": {
      "text/plain": [
       "\n",
       "\tWilcoxon rank sum test with continuity correction\n",
       "\n",
       "data:  AASGroup1 and AASGroup2\n",
       "W = 85, p-value = 0.7216\n",
       "alternative hypothesis: true location shift is not equal to 0\n"
      ]
     },
     "metadata": {},
     "output_type": "display_data"
    },
    {
     "data": {
      "text/html": [
       "9.20138888888889"
      ],
      "text/latex": [
       "9.20138888888889"
      ],
      "text/markdown": [
       "9.20138888888889"
      ],
      "text/plain": [
       "[1] 9.201389"
      ]
     },
     "metadata": {},
     "output_type": "display_data"
    },
    {
     "data": {
      "text/html": [
       "1.45441995372579"
      ],
      "text/latex": [
       "1.45441995372579"
      ],
      "text/markdown": [
       "1.45441995372579"
      ],
      "text/plain": [
       "[1] 1.45442"
      ]
     },
     "metadata": {},
     "output_type": "display_data"
    },
    {
     "data": {
      "text/html": [
       "8.33333333333333"
      ],
      "text/latex": [
       "8.33333333333333"
      ],
      "text/markdown": [
       "8.33333333333333"
      ],
      "text/plain": [
       "[1] 8.333333"
      ]
     },
     "metadata": {},
     "output_type": "display_data"
    },
    {
     "data": {
      "text/html": [
       "2.79220788930899"
      ],
      "text/latex": [
       "2.79220788930899"
      ],
      "text/markdown": [
       "2.79220788930899"
      ],
      "text/plain": [
       "[1] 2.792208"
      ]
     },
     "metadata": {},
     "output_type": "display_data"
    },
    {
     "data": {
      "text/html": [
       "-39.8"
      ],
      "text/latex": [
       "-39.8"
      ],
      "text/markdown": [
       "-39.8"
      ],
      "text/plain": [
       "[1] -39.8"
      ]
     },
     "metadata": {},
     "output_type": "display_data"
    },
    {
     "data": {
      "text/html": [
       "-32.6"
      ],
      "text/latex": [
       "-32.6"
      ],
      "text/markdown": [
       "-32.6"
      ],
      "text/plain": [
       "[1] -32.6"
      ]
     },
     "metadata": {},
     "output_type": "display_data"
    }
   ],
   "source": [
    "# The workflow that follows performs statistical analysis for Directions Estimates\n",
    "\n",
    "DirEstim <- read_csv(\"Directions.csv\") # Directions.csv contains the participants' estimates on four directions\n",
    "\n",
    "DirCorrect <- data.frame(0, 10, 270, 0) # The four values denote the correct directions that participants had to estimate\n",
    "\n",
    "colnames(DirCorrect) <- c(\"Dir1\", \"Dir2\", \"Dir3\", \"Dir4\")\n",
    "DirScores <- data.frame(\n",
    "  DirCorrect$Dir1 - DirEstim$EST_DR1,\n",
    "  DirCorrect$Dir2 - DirEstim$EST_DR2,\n",
    "  DirCorrect$Dir3 - DirEstim$EST_DR3,\n",
    "  DirCorrect$Dir4 - DirEstim$EST_DR4\n",
    ")\n",
    "colnames(DirScores) <- c(\n",
    "  \"ScoreDir1\", \"ScoreDir2\",\n",
    "  \"ScoreDir3\", \"ScoreDir4\"\n",
    ")\n",
    "\n",
    "AbsDirScores <- data.frame(abs(DirScores))\n",
    "AbsDirScores$ScoreDir2[18] <- 40 # Handling the estimation between 270o and 359o so that the score falls below 180o\n",
    "\n",
    "AAS <- rowMeans(AbsDirScores[, 1:4] * 100 / 180) # AAS: Absolute Accuracy Score\n",
    "AASGroup1 <- AAS[1:12]\n",
    "AASGroup2 <- AAS[13:25]\n",
    "shapiro.test(AASGroup1)\n",
    "shapiro.test(AASGroup2)\n",
    "wilcox.test(AASGroup1, AASGroup2,\n",
    "  exact = FALSE\n",
    ")\n",
    "\n",
    "mean(AASGroup1)\n",
    "sd(AASGroup1)\n",
    "mean(AASGroup2)\n",
    "sd(AASGroup2)\n",
    "mean(DirScores$ScoreDir2)\n",
    "mean(DirScores$ScoreDir3)"
   ]
  },
  {
   "cell_type": "code",
   "execution_count": 30,
   "id": "7ec78a38",
   "metadata": {},
   "outputs": [
    {
     "name": "stderr",
     "output_type": "stream",
     "text": [
      "\n",
      "\u001b[36m──\u001b[39m \u001b[1m\u001b[1mColumn specification\u001b[1m\u001b[22m \u001b[36m────────────────────────────────────────────────────────\u001b[39m\n",
      "cols(\n",
      "  Group = \u001b[31mcol_character()\u001b[39m,\n",
      "  P_id = \u001b[32mcol_double()\u001b[39m,\n",
      "  ESTIM_D1 = \u001b[32mcol_double()\u001b[39m,\n",
      "  ESTIM_D2 = \u001b[32mcol_double()\u001b[39m,\n",
      "  ESTIM_D3 = \u001b[32mcol_double()\u001b[39m,\n",
      "  ESTIM_D4 = \u001b[32mcol_double()\u001b[39m\n",
      ")\n",
      "\n",
      "\n"
     ]
    },
    {
     "data": {
      "text/plain": [
       "\n",
       "\tShapiro-Wilk normality test\n",
       "\n",
       "data:  DistAbScoreGroup1$TotalScore\n",
       "W = 0.90266, p-value = 0.1992\n"
      ]
     },
     "metadata": {},
     "output_type": "display_data"
    },
    {
     "data": {
      "text/plain": [
       "\n",
       "\tShapiro-Wilk normality test\n",
       "\n",
       "data:  DistAbScoreGroup2$TotalScore\n",
       "W = 0.97888, p-value = 0.9737\n"
      ]
     },
     "metadata": {},
     "output_type": "display_data"
    }
   ],
   "source": [
    "# The workflow that follows performs statistical analysis for Distances Estimates\n",
    "\n",
    "DistEstim <- read_csv(\"Distances.csv\") # Distances.csv contains the participants' estimates on four distances\n",
    "\n",
    "DistCorrect <- data.frame(650, 60, 400, 55) # The values indicate the correct distances that participants had to estimate\n",
    "colnames(DistCorrect) <- c(\"D1\", \"D2\", \"D3\", \"D4\")\n",
    "DistRelScores <- data.frame(\n",
    "  DistEstim$ESTIM_D1 - DistCorrect$D1,\n",
    "  DistEstim$ESTIM_D2 - DistCorrect$D2,\n",
    "  DistEstim$ESTIM_D3 - DistCorrect$D3,\n",
    "  DistEstim$ESTIM_D4 - DistCorrect$D4\n",
    ")\n",
    "colnames(DistRelScores) <- c(\n",
    "  \"RelScore1\", \"RelScore2\",\n",
    "  \"RelScore3\", \"RelScore4\"\n",
    ")\n",
    "DistAbScores <- data.frame(abs(DistRelScores))\n",
    "colnames(DistAbScores) <- c(\n",
    "  \"AbScore1\", \"AbScore2\",\n",
    "  \"AbScore3\", \"AbScore4\"\n",
    ")\n",
    "\n",
    "DistAbScores$TotalScore <- rowMeans(DistAbScores[, 1:4]) # The total score in the distance estimation task is the average of the four distances estimates scores.\n",
    "DistAbScores <- DistAbScores[-c(3), ] # participant with p_id=3 is excluded from further analysis related to distance estimates\n",
    "DistRelScores <- DistRelScores[-c(3), ]\n",
    "DistAbScoreGroup1 <- DistAbScores[1:11, 1:5]\n",
    "DistAbScoreGroup2 <- DistAbScores[12:24, 1:5]\n",
    "DistAbScore1Desc <- data.frame(\n",
    "  mean(DistAbScoreGroup1$AbScore1),\n",
    "  sd(DistAbScoreGroup1$AbScore1),\n",
    "  mean(DistAbScoreGroup1$AbScore2),\n",
    "  sd(DistAbScoreGroup1$AbScore2),\n",
    "  mean(DistAbScoreGroup1$AbScore3),\n",
    "  sd(DistAbScoreGroup1$AbScore3),\n",
    "  mean(DistAbScoreGroup1$AbScore4),\n",
    "  sd(DistAbScoreGroup1$AbScore4), \n",
    "  mean(DistAbScoreGroup1$TotalScore), \n",
    "  sd(DistAbScoreGroup1$TotalScore)\n",
    ")\n",
    "colnames(DistAbScore1Desc) <- c(\n",
    "  \"MeanScore1\", \"SDScore1\",\n",
    "  \"MeanScore2\", \"SDScore2\",\n",
    "  \"MeanScore3\", \"SDScore3\",\n",
    "  \"MeanScore4\", \"SDScore4\", \n",
    "  \"MeanDistanceScore\", \"SDDistanceScore\"\n",
    ")\n",
    "\n",
    "DistAbScore2Desc <- data.frame(\n",
    "  mean(DistAbScoreGroup2$AbScore1),\n",
    "  sd(DistAbScoreGroup2$AbScore1),\n",
    "  mean(DistAbScoreGroup2$AbScore2),\n",
    "  sd(DistAbScoreGroup2$AbScore2),\n",
    "  mean(DistAbScoreGroup2$AbScore3),\n",
    "  sd(DistAbScoreGroup2$AbScore3),\n",
    "  mean(DistAbScoreGroup2$AbScore4),\n",
    "  sd(DistAbScoreGroup2$AbScore4),\n",
    "  mean(DistAbScoreGroup2$TotalScore),\n",
    "  sd(DistAbScoreGroup2$TotalScore)\n",
    ")\n",
    "colnames(DistAbScore2Desc) <- c(\n",
    "  \"MeanScore1\", \"SDScore1\",\n",
    "  \"MeanScore2\", \"SDScore2\",\n",
    "  \"MeanScore3\", \"SDScore3\",\n",
    "  \"MeanScore4\", \"SDScore4\",\n",
    "  \"MeanDistanceScore\",\n",
    "  \"SDDistanceScore\"\n",
    ")\n",
    "\n",
    "shapiro.test(DistAbScoreGroup1$TotalScore)\n",
    "shapiro.test(DistAbScoreGroup2$TotalScore)\n",
    "Distancesttest <- t.test(\n",
    "  DistAbScoreGroup1$TotalScore,\n",
    "  DistAbScoreGroup2$TotalScore\n",
    ")"
   ]
  },
  {
   "cell_type": "code",
   "execution_count": 31,
   "id": "f4459dd7",
   "metadata": {},
   "outputs": [
    {
     "data": {
      "text/plain": [
       "\n",
       "\tShapiro-Wilk normality test\n",
       "\n",
       "data:  DistAbScoreGroup1$AbScore3\n",
       "W = 0.9206, p-value = 0.3237\n"
      ]
     },
     "metadata": {},
     "output_type": "display_data"
    },
    {
     "data": {
      "text/plain": [
       "\n",
       "\tShapiro-Wilk normality test\n",
       "\n",
       "data:  DistAbScoreGroup2$AbScore3\n",
       "W = 0.64958, p-value = 0.0001816\n"
      ]
     },
     "metadata": {},
     "output_type": "display_data"
    }
   ],
   "source": [
    "# Comparing between groups for each distance estimated; this script includes only the procedure for Distance #3\n",
    "\n",
    "shapiro.test(DistAbScoreGroup1$AbScore3)\n",
    "shapiro.test(DistAbScoreGroup2$AbScore3)\n",
    "Distance3Comp <- wilcox.test(DistAbScoreGroup1$AbScore3,\n",
    "  DistAbScoreGroup2$AbScore3,\n",
    "  exact = FALSE\n",
    ")"
   ]
  },
  {
   "cell_type": "code",
   "execution_count": 32,
   "id": "5437ac65",
   "metadata": {},
   "outputs": [
    {
     "data": {
      "text/plain": [
       "\n",
       "\tShapiro-Wilk normality test\n",
       "\n",
       "data:  DistAbScoreGroup1$AbScore1\n",
       "W = 0.87966, p-value = 0.103\n"
      ]
     },
     "metadata": {},
     "output_type": "display_data"
    },
    {
     "data": {
      "text/plain": [
       "\n",
       "\tShapiro-Wilk normality test\n",
       "\n",
       "data:  DistAbScoreGroup2$AbScore1\n",
       "W = 0.90279, p-value = 0.1461\n"
      ]
     },
     "metadata": {},
     "output_type": "display_data"
    }
   ],
   "source": [
    "shapiro.test(DistAbScoreGroup1$AbScore1)\n",
    "shapiro.test(DistAbScoreGroup2$AbScore1)\n",
    "Distance3Comp <- wilcox.test(DistAbScoreGroup1$AbScore3,\n",
    "  DistAbScoreGroup2$AbScore3,\n",
    "  exact = FALSE\n",
    ")"
   ]
  },
  {
   "cell_type": "code",
   "execution_count": 33,
   "id": "3d91b3f9",
   "metadata": {},
   "outputs": [
    {
     "data": {
      "text/plain": [
       "\n",
       "\tShapiro-Wilk normality test\n",
       "\n",
       "data:  DistAbScoreGroup1$AbScore2\n",
       "W = 0.87924, p-value = 0.1017\n"
      ]
     },
     "metadata": {},
     "output_type": "display_data"
    },
    {
     "data": {
      "text/plain": [
       "\n",
       "\tShapiro-Wilk normality test\n",
       "\n",
       "data:  DistAbScoreGroup2$AbScore2\n",
       "W = 0.81225, p-value = 0.009565\n"
      ]
     },
     "metadata": {},
     "output_type": "display_data"
    }
   ],
   "source": [
    "shapiro.test(DistAbScoreGroup1$AbScore2)\n",
    "shapiro.test(DistAbScoreGroup2$AbScore2)\n",
    "Distance3Comp <- wilcox.test(DistAbScoreGroup1$AbScore3,\n",
    "  DistAbScoreGroup2$AbScore3,\n",
    "  exact = FALSE\n",
    ")"
   ]
  },
  {
   "cell_type": "code",
   "execution_count": 34,
   "id": "234efafc",
   "metadata": {
    "scrolled": true
   },
   "outputs": [
    {
     "data": {
      "text/plain": [
       "\n",
       "\tShapiro-Wilk normality test\n",
       "\n",
       "data:  DistAbScoreGroup1$AbScore4\n",
       "W = 0.91781, p-value = 0.3009\n"
      ]
     },
     "metadata": {},
     "output_type": "display_data"
    },
    {
     "data": {
      "text/plain": [
       "\n",
       "\tShapiro-Wilk normality test\n",
       "\n",
       "data:  DistAbScoreGroup2$AbScore4\n",
       "W = 0.89245, p-value = 0.1054\n"
      ]
     },
     "metadata": {},
     "output_type": "display_data"
    }
   ],
   "source": [
    "shapiro.test(DistAbScoreGroup1$AbScore4)\n",
    "shapiro.test(DistAbScoreGroup2$AbScore4)\n",
    "Distance3Comp <- wilcox.test(DistAbScoreGroup1$AbScore3,\n",
    "  DistAbScoreGroup2$AbScore3,\n",
    "  exact = FALSE\n",
    ")"
   ]
  },
  {
   "cell_type": "code",
   "execution_count": 35,
   "id": "74e6c367",
   "metadata": {},
   "outputs": [
    {
     "data": {
      "text/plain": [
       "\n",
       "\tShapiro-Wilk normality test\n",
       "\n",
       "data:  DistAbScoreGroup1$TotalScore\n",
       "W = 0.90266, p-value = 0.1992\n"
      ]
     },
     "metadata": {},
     "output_type": "display_data"
    },
    {
     "data": {
      "text/plain": [
       "\n",
       "\tShapiro-Wilk normality test\n",
       "\n",
       "data:  DistAbScoreGroup2$TotalScore\n",
       "W = 0.97888, p-value = 0.9737\n"
      ]
     },
     "metadata": {},
     "output_type": "display_data"
    }
   ],
   "source": [
    "shapiro.test(DistAbScoreGroup1$TotalScore)\n",
    "shapiro.test(DistAbScoreGroup2$TotalScore)\n",
    "Distance3Comp <- wilcox.test(DistAbScoreGroup1$AbScore3,\n",
    "  DistAbScoreGroup2$AbScore3,\n",
    "  exact = FALSE\n",
    ")"
   ]
  },
  {
   "cell_type": "code",
   "execution_count": 36,
   "id": "2d1cce5b",
   "metadata": {},
   "outputs": [],
   "source": [
    "#The process that follows consists of finding absolute and relative standard errors of distance estimates\n",
    "\n",
    "meanAbsError <- data.frame(\n",
    "  mean(DistAbScores$AbScore1 / DistCorrect$D1 * 100),\n",
    "  mean(DistAbScores$AbScore2 / DistCorrect$D2 * 100),\n",
    "  mean(DistAbScores$AbScore3 / DistCorrect$D3 * 100),\n",
    "  mean(DistAbScores$AbScore4 / DistCorrect$D4 * 100)\n",
    ")\n",
    "colnames(meanAbsError) <- c(\n",
    "  \"AbsEstError1\", \"AbsEstError2\",\n",
    "  \"AbsEstError3\", \"AbsEstError4\"\n",
    ")\n",
    "\n",
    "meanRelError <- data.frame(\n",
    "  mean(DistRelScores$RelScore1 / DistCorrect$D1 * 100),\n",
    "  mean(DistRelScores$RelScore2 / DistCorrect$D2 * 100),\n",
    "  mean(DistRelScores$RelScore3 / DistCorrect$D3 * 100),\n",
    "  mean(DistRelScores$RelScore4 / DistCorrect$D4 * 100)\n",
    ")\n",
    "colnames(meanRelError) <- c(\n",
    "  \"RelEstError1\", \"RelEstError2\",\n",
    "  \"RelEstError3\", \"RelEstError4\"\n",
    ")"
   ]
  },
  {
   "cell_type": "code",
   "execution_count": 37,
   "id": "fd0d05ae",
   "metadata": {},
   "outputs": [
    {
     "data": {
      "text/html": [
       "<table class=\"dataframe\">\n",
       "<caption>A data.frame: 1 × 4</caption>\n",
       "<thead>\n",
       "\t<tr><th scope=col>AbsEstError1</th><th scope=col>AbsEstError2</th><th scope=col>AbsEstError3</th><th scope=col>AbsEstError4</th></tr>\n",
       "\t<tr><th scope=col>&lt;dbl&gt;</th><th scope=col>&lt;dbl&gt;</th><th scope=col>&lt;dbl&gt;</th><th scope=col>&lt;dbl&gt;</th></tr>\n",
       "</thead>\n",
       "<tbody>\n",
       "\t<tr><td>25.19231</td><td>39.58333</td><td>27.39583</td><td>36.36364</td></tr>\n",
       "</tbody>\n",
       "</table>\n"
      ],
      "text/latex": [
       "A data.frame: 1 × 4\n",
       "\\begin{tabular}{llll}\n",
       " AbsEstError1 & AbsEstError2 & AbsEstError3 & AbsEstError4\\\\\n",
       " <dbl> & <dbl> & <dbl> & <dbl>\\\\\n",
       "\\hline\n",
       "\t 25.19231 & 39.58333 & 27.39583 & 36.36364\\\\\n",
       "\\end{tabular}\n"
      ],
      "text/markdown": [
       "\n",
       "A data.frame: 1 × 4\n",
       "\n",
       "| AbsEstError1 &lt;dbl&gt; | AbsEstError2 &lt;dbl&gt; | AbsEstError3 &lt;dbl&gt; | AbsEstError4 &lt;dbl&gt; |\n",
       "|---|---|---|---|\n",
       "| 25.19231 | 39.58333 | 27.39583 | 36.36364 |\n",
       "\n"
      ],
      "text/plain": [
       "  AbsEstError1 AbsEstError2 AbsEstError3 AbsEstError4\n",
       "1 25.19231     39.58333     27.39583     36.36364    "
      ]
     },
     "metadata": {},
     "output_type": "display_data"
    },
    {
     "data": {
      "text/html": [
       "<table class=\"dataframe\">\n",
       "<caption>A data.frame: 1 × 4</caption>\n",
       "<thead>\n",
       "\t<tr><th scope=col>RelEstError1</th><th scope=col>RelEstError2</th><th scope=col>RelEstError3</th><th scope=col>RelEstError4</th></tr>\n",
       "\t<tr><th scope=col>&lt;dbl&gt;</th><th scope=col>&lt;dbl&gt;</th><th scope=col>&lt;dbl&gt;</th><th scope=col>&lt;dbl&gt;</th></tr>\n",
       "</thead>\n",
       "<tbody>\n",
       "\t<tr><td>-7.884615</td><td>22.91667</td><td>1.770833</td><td>-5.30303</td></tr>\n",
       "</tbody>\n",
       "</table>\n"
      ],
      "text/latex": [
       "A data.frame: 1 × 4\n",
       "\\begin{tabular}{llll}\n",
       " RelEstError1 & RelEstError2 & RelEstError3 & RelEstError4\\\\\n",
       " <dbl> & <dbl> & <dbl> & <dbl>\\\\\n",
       "\\hline\n",
       "\t -7.884615 & 22.91667 & 1.770833 & -5.30303\\\\\n",
       "\\end{tabular}\n"
      ],
      "text/markdown": [
       "\n",
       "A data.frame: 1 × 4\n",
       "\n",
       "| RelEstError1 &lt;dbl&gt; | RelEstError2 &lt;dbl&gt; | RelEstError3 &lt;dbl&gt; | RelEstError4 &lt;dbl&gt; |\n",
       "|---|---|---|---|\n",
       "| -7.884615 | 22.91667 | 1.770833 | -5.30303 |\n",
       "\n"
      ],
      "text/plain": [
       "  RelEstError1 RelEstError2 RelEstError3 RelEstError4\n",
       "1 -7.884615    22.91667     1.770833     -5.30303    "
      ]
     },
     "metadata": {},
     "output_type": "display_data"
    }
   ],
   "source": [
    "meanAbsError\n",
    "meanRelError"
   ]
  },
  {
   "cell_type": "code",
   "execution_count": 38,
   "id": "c9eb77fc",
   "metadata": {},
   "outputs": [],
   "source": [
    "# Finding standard errors for absolute and relative distance scores (in %)\n",
    "\n",
    "seD1_absolute <- function() sqrt(var((DistAbScores$AbScore1 / DistCorrect$D1) * 100) / 24)\n",
    "seD2_absolute <- function() sqrt(var((DistAbScores$AbScore2 / DistCorrect$D2) * 100) / 24)\n",
    "seD3_absolute <- function() sqrt(var((DistAbScores$AbScore3 / DistCorrect$D3) * 100) / 24)\n",
    "seD4_absolute <- function() sqrt(var((DistAbScores$AbScore4 / DistCorrect$D4) * 100) / 24)\n",
    "\n",
    "seD1_relative <- function() sqrt(var((DistRelScores$RelScore1 / DistCorrect$D1) * 100) / 24)\n",
    "seD2_relative <- function() sqrt(var((DistRelScores$RelScore2 / DistCorrect$D2) * 100) / 24)\n",
    "seD3_relative <- function() sqrt(var((DistRelScores$RelScore3/DistCorrect$D3)*100)/24)\n",
    "seD4_relative <- function() sqrt(var((DistRelScores$RelScore4/DistCorrect$D4)*100)/24)\n",
    "\n",
    "seAbsolute<-c(seD1_absolute(), seD2_absolute(), \n",
    "              seD3_absolute(), seD4_absolute())\n",
    "seRelative<-c(seD1_relative(), seD2_relative(), \n",
    "              seD3_relative(), seD4_relative())\n",
    "seAbsolute <- round(seAbsolute, digits = 2)\n",
    "seRelative <- round(seRelative, digits = 2)\n",
    "\n",
    "meanRelativeErrors <- as.vector(t(meanRelError))\n",
    "meanRelativeErrors <- round(meanRelativeErrors, digits = 2)\n",
    "meanAbsoluteErrors <- as.vector(t(meanAbsError))\n",
    "meanAbsoluteErrors <- round(meanAbsoluteErrors, digits = 2)\n",
    "\n",
    "DistCorrect <- as.vector(t(DistCorrect))"
   ]
  },
  {
   "cell_type": "code",
   "execution_count": 39,
   "id": "01400065",
   "metadata": {},
   "outputs": [
    {
     "data": {
      "text/html": [
       "<style>\n",
       ".list-inline {list-style: none; margin:0; padding: 0}\n",
       ".list-inline>li {display: inline-block}\n",
       ".list-inline>li:not(:last-child)::after {content: \"\\00b7\"; padding: 0 .5ex}\n",
       "</style>\n",
       "<ol class=list-inline><li>-7.88</li><li>22.92</li><li>1.77</li><li>-5.3</li></ol>\n"
      ],
      "text/latex": [
       "\\begin{enumerate*}\n",
       "\\item -7.88\n",
       "\\item 22.92\n",
       "\\item 1.77\n",
       "\\item -5.3\n",
       "\\end{enumerate*}\n"
      ],
      "text/markdown": [
       "1. -7.88\n",
       "2. 22.92\n",
       "3. 1.77\n",
       "4. -5.3\n",
       "\n",
       "\n"
      ],
      "text/plain": [
       "[1] -7.88 22.92  1.77 -5.30"
      ]
     },
     "metadata": {},
     "output_type": "display_data"
    },
    {
     "data": {
      "text/html": [
       "<style>\n",
       ".list-inline {list-style: none; margin:0; padding: 0}\n",
       ".list-inline>li {display: inline-block}\n",
       ".list-inline>li:not(:last-child)::after {content: \"\\00b7\"; padding: 0 .5ex}\n",
       "</style>\n",
       "<ol class=list-inline><li>25.19</li><li>39.58</li><li>27.4</li><li>36.36</li></ol>\n"
      ],
      "text/latex": [
       "\\begin{enumerate*}\n",
       "\\item 25.19\n",
       "\\item 39.58\n",
       "\\item 27.4\n",
       "\\item 36.36\n",
       "\\end{enumerate*}\n"
      ],
      "text/markdown": [
       "1. 25.19\n",
       "2. 39.58\n",
       "3. 27.4\n",
       "4. 36.36\n",
       "\n",
       "\n"
      ],
      "text/plain": [
       "[1] 25.19 39.58 27.40 36.36"
      ]
     },
     "metadata": {},
     "output_type": "display_data"
    }
   ],
   "source": [
    "meanRelativeErrors\n",
    "meanAbsoluteErrors"
   ]
  },
  {
   "cell_type": "code",
   "execution_count": 40,
   "id": "2d110c7c",
   "metadata": {},
   "outputs": [
    {
     "data": {
      "image/png": "[encoded data removed]",
      "text/plain": [
       "plot without title"
      ]
     },
     "metadata": {
      "image/png": {
       "height": 420,
       "width": 420
      }
     },
     "output_type": "display_data"
    }
   ],
   "source": [
    "# What follows creates the plot of the mean and standard error bars for both relative and absolute distance estimates; figure 4 of the paper.\n",
    "\n",
    "par(mar = c(4, 4, 1, 1))\n",
    "plot(DistCorrect, meanAbsoluteErrors,\n",
    "  xlim = c(0, 700),\n",
    "  ylim = c(-15, 50), xlab = \"Actual Distances\",\n",
    "  ylab = \"Absolute and real relative estimation error (%)\",\n",
    "  pch = 16, cex = 2, col = \"blue\"\n",
    ")\n",
    "arrows(\n",
    "  x0 = DistCorrect, y0 = meanAbsoluteErrors - seAbsolute,\n",
    "  x1 = DistCorrect, y1 = meanAbsoluteErrors + seAbsolute,\n",
    "  code = 3, angle = 90, length = 0.1\n",
    ")\n",
    "text(DistCorrect,\n",
    "  y = meanAbsoluteErrors,\n",
    "  labels = meanAbsoluteErrors, pos = 2,\n",
    "  offset = 0.5, cex = 0.8, col = \"blue\"\n",
    ")\n",
    "par(new = TRUE)\n",
    "plot(DistCorrect, meanRelativeErrors,\n",
    "  xlim = c(0, 700), ylim = c(-15, 50),\n",
    "  xlab = \"Actual Distances\", ylab = \"Absolute and real relative estimation error (%)\",\n",
    "  pch = 16, cex = 2, col = \"red\"\n",
    ")\n",
    "arrows(\n",
    "  x0 = DistCorrect, y0 = meanRelativeErrors - seRelative,\n",
    "  x1 = DistCorrect, y1 = meanRelativeErrors + seRelative,\n",
    "  code = 3, angle = 90, length = 0.1\n",
    ")\n",
    "text(DistCorrect,\n",
    "  y = meanRelativeErrors,\n",
    "  labels = meanRelativeErrors, pos = 2, offset = 0.5,\n",
    "  cex = 0.8, col = \"red\"\n",
    ")"
   ]
  },
  {
   "cell_type": "code",
   "execution_count": 43,
   "id": "e32bfcd0",
   "metadata": {},
   "outputs": [],
   "source": [
    "# Correlations calculations between variables follow.\n",
    "# Spearman Correlations between variables for Group 1; generates the contents of Table 1\n",
    "\n",
    "SBSoDMapErr1 <- cor.test(SBSoD1, MapErrorsGroup1$`total map errors`,\n",
    "  method = \"spearman\", exact = FALSE\n",
    ")\n",
    "SBSoDLandOmit1 <- cor.test(SBSoD1, MapErrorsGroup1$`landmarks omitted`,\n",
    "  method = \"spearman\", exact = FALSE\n",
    ")\n",
    "SBSoDRoadSeg1 <- cor.test(SBSoD1, MapErrorsGroup1$`road segments`,\n",
    "  method = \"spearman\", exact = FALSE\n",
    ")\n",
    "LandOmitRoadSeg1 <- cor.test(MapErrorsGroup1$`landmarks omitted`,\n",
    "  MapErrorsGroup1$`road segments`,\n",
    "  method = \"spearman\", exact = FALSE\n",
    ")\n",
    "SBSoDAAS1 <- cor.test(SBSoD1, AASGroup1,\n",
    "  method = \"spearman\",\n",
    "  exact = FALSE\n",
    ")\n",
    "SBSoDDist1 <- cor.test(SBSoD1[-c(3)], DistAbScoreGroup1$TotalScore,\n",
    "  method = \"spearman\", exact = FALSE\n",
    ")\n",
    "MapErrAAS1 <- cor.test(MapErrorsGroup1$`total map errors`, AASGroup1,\n",
    "  method = \"spearman\", exact = FALSE\n",
    ")\n",
    "MapErrDist1 <- cor.test(MapErrorsGroup1$`total map errors`[-c(3)],\n",
    "  DistAbScoreGroup1$TotalScore,\n",
    "  method = \"spearman\", exact = FALSE\n",
    ")\n",
    "AASDist1 <- cor.test(AASGroup1[-c(3)], DistAbScoreGroup1$TotalScore,\n",
    "  method = \"spearman\", exact = FALSE\n",
    ")\n",
    "correlationsGroup1 <- c(\n",
    "  round(SBSoDMapErr1$estimate, digits = 2),\n",
    "  (round(SBSoDLandOmit1$estimate, digits = 2)),\n",
    "  (round(SBSoDRoadSeg1$estimate, digits = 2)),\n",
    "  (round(LandOmitRoadSeg1$estimate, digits = 2)),\n",
    "  (round(SBSoDAAS1$estimate, digits = 2)),\n",
    "  (round(SBSoDDist1$estimate, digits = 2)),\n",
    "  (round(MapErrAAS1$estimate, digits = 2)),\n",
    "  (round(MapErrDist1$estimate, digits = 2)),\n",
    "  (round(AASDist1$estimate, digits = 2))\n",
    ") "
   ]
  },
  {
   "cell_type": "code",
   "execution_count": 45,
   "id": "2229e330",
   "metadata": {},
   "outputs": [],
   "source": [
    "# Builds the vector of Spearman's rhos (two digits)\n",
    "\n",
    "pvaluesGroup1 <- c(\n",
    "  round(SBSoDMapErr1$p.value, digits = 3),\n",
    "  (round(SBSoDLandOmit1$p.value, digits = 3)),\n",
    "  (round(SBSoDRoadSeg1$p.value, digits = 3)),\n",
    "  (round(LandOmitRoadSeg1$p.value, digits = 3)),\n",
    "  (round(SBSoDAAS1$p.value, digits = 3)),\n",
    "  (round(SBSoDDist1$p.value, digits = 3)),\n",
    "  (round(MapErrAAS1$p.value, digits = 3)),\n",
    "  (round(MapErrDist1$p.value, digits = 3)),\n",
    "  (round(AASDist1$p.value, digits = 3))\n",
    ") "
   ]
  },
  {
   "cell_type": "code",
   "execution_count": 47,
   "id": "2e6b5b25",
   "metadata": {},
   "outputs": [],
   "source": [
    "#Builds the vector of p-values for rs estimates (three digits)\n",
    "\n",
    "CorrelationsGroup1Table <- data.frame(\n",
    "  correlationsGroup1,\n",
    "  pvaluesGroup1\n",
    ") "
   ]
  },
  {
   "cell_type": "code",
   "execution_count": 52,
   "id": "39d1b324",
   "metadata": {},
   "outputs": [
    {
     "data": {
      "text/html": [
       "<table class=\"dataframe\">\n",
       "<caption>A data.frame: 9 × 2</caption>\n",
       "<thead>\n",
       "\t<tr><th scope=col>correlationsGroup1</th><th scope=col>pvaluesGroup1</th></tr>\n",
       "\t<tr><th scope=col>&lt;dbl&gt;</th><th scope=col>&lt;dbl&gt;</th></tr>\n",
       "</thead>\n",
       "<tbody>\n",
       "\t<tr><td>-0.62</td><td>0.032</td></tr>\n",
       "\t<tr><td>-0.27</td><td>0.388</td></tr>\n",
       "\t<tr><td>-0.65</td><td>0.023</td></tr>\n",
       "\t<tr><td> 0.44</td><td>0.155</td></tr>\n",
       "\t<tr><td> 0.18</td><td>0.568</td></tr>\n",
       "\t<tr><td>-0.55</td><td>0.077</td></tr>\n",
       "\t<tr><td> 0.02</td><td>0.939</td></tr>\n",
       "\t<tr><td> 0.54</td><td>0.090</td></tr>\n",
       "\t<tr><td> 0.06</td><td>0.851</td></tr>\n",
       "</tbody>\n",
       "</table>\n"
      ],
      "text/latex": [
       "A data.frame: 9 × 2\n",
       "\\begin{tabular}{ll}\n",
       " correlationsGroup1 & pvaluesGroup1\\\\\n",
       " <dbl> & <dbl>\\\\\n",
       "\\hline\n",
       "\t -0.62 & 0.032\\\\\n",
       "\t -0.27 & 0.388\\\\\n",
       "\t -0.65 & 0.023\\\\\n",
       "\t  0.44 & 0.155\\\\\n",
       "\t  0.18 & 0.568\\\\\n",
       "\t -0.55 & 0.077\\\\\n",
       "\t  0.02 & 0.939\\\\\n",
       "\t  0.54 & 0.090\\\\\n",
       "\t  0.06 & 0.851\\\\\n",
       "\\end{tabular}\n"
      ],
      "text/markdown": [
       "\n",
       "A data.frame: 9 × 2\n",
       "\n",
       "| correlationsGroup1 &lt;dbl&gt; | pvaluesGroup1 &lt;dbl&gt; |\n",
       "|---|---|\n",
       "| -0.62 | 0.032 |\n",
       "| -0.27 | 0.388 |\n",
       "| -0.65 | 0.023 |\n",
       "|  0.44 | 0.155 |\n",
       "|  0.18 | 0.568 |\n",
       "| -0.55 | 0.077 |\n",
       "|  0.02 | 0.939 |\n",
       "|  0.54 | 0.090 |\n",
       "|  0.06 | 0.851 |\n",
       "\n"
      ],
      "text/plain": [
       "  correlationsGroup1 pvaluesGroup1\n",
       "1 -0.62              0.032        \n",
       "2 -0.27              0.388        \n",
       "3 -0.65              0.023        \n",
       "4  0.44              0.155        \n",
       "5  0.18              0.568        \n",
       "6 -0.55              0.077        \n",
       "7  0.02              0.939        \n",
       "8  0.54              0.090        \n",
       "9  0.06              0.851        "
      ]
     },
     "metadata": {},
     "output_type": "display_data"
    }
   ],
   "source": [
    "CorrelationsGroup1Table"
   ]
  },
  {
   "cell_type": "code",
   "execution_count": 48,
   "id": "b492a15c",
   "metadata": {},
   "outputs": [],
   "source": [
    "# Generates the contents of Table 1 in the form of a data frame.\n",
    "# Spearman Correlations between variables for Group 2; to generate the contents of Table 2.\n",
    "\n",
    "SBSoDMapErr2 <- cor.test(SBSoD2, MapErrorsGroup2$`total map errors`,\n",
    "  method = \"spearman\", exact = FALSE\n",
    ")\n",
    "SBSoDLandOmit2 <- cor.test(SBSoD2, MapErrorsGroup2$`landmarks omitted`,\n",
    "  method = \"spearman\", exact = FALSE\n",
    ")\n",
    "SBSoDRoadSeg2 <- cor.test(SBSoD2, MapErrorsGroup2$`road segments`,\n",
    "  method = \"spearman\", exact = FALSE\n",
    ")\n",
    "LandOmitRoadSeg2 <- cor.test(MapErrorsGroup2$`landmarks omitted`,\n",
    "  MapErrorsGroup2$`road segments`,\n",
    "  method = \"spearman\", exact = FALSE\n",
    ")\n",
    "SBSoDAAS2 <- cor.test(SBSoD2, AASGroup2, method = \"spearman\", exact = FALSE)\n",
    "SBSoDDist2 <- cor.test(SBSoD2, DistAbScoreGroup2$TotalScore,\n",
    "  method = \"spearman\", exact = FALSE\n",
    ")\n",
    "MapErrAAS2 <- cor.test(MapErrorsGroup2$`total map errors`,\n",
    "  AASGroup2,\n",
    "  method = \"spearman\", exact = FALSE\n",
    ")\n",
    "MapErrDist2 <- cor.test(MapErrorsGroup2$`total map errors`,\n",
    "  DistAbScoreGroup2$TotalScore,\n",
    "  method = \"spearman\", exact = FALSE\n",
    ")\n",
    "AASDist2 <- cor.test(AASGroup2, DistAbScoreGroup2$TotalScore,\n",
    "  method = \"spearman\", exact = FALSE\n",
    ")\n",
    "correlationsGroup2 <- c(\n",
    "  round(SBSoDMapErr2$estimate, digits = 2),\n",
    "  (round(SBSoDLandOmit2$estimate, digits = 2)),\n",
    "  (round(SBSoDRoadSeg2$estimate, digits = 2)),\n",
    "  (round(LandOmitRoadSeg2$estimate, digits = 2)),\n",
    "  (round(SBSoDAAS2$estimate, digits = 2)),\n",
    "  (round(SBSoDDist2$estimate, digits = 2)),\n",
    "  (round(MapErrAAS2$estimate, digits = 2)),\n",
    "  (round(MapErrDist2$estimate, digits = 2)),\n",
    "  (round(AASDist2$estimate, digits = 2))\n",
    ") "
   ]
  },
  {
   "cell_type": "code",
   "execution_count": 49,
   "id": "5033c763",
   "metadata": {},
   "outputs": [],
   "source": [
    "# Builds the vector of Spearman's rhos\n",
    "\n",
    "pvaluesGroup2 <- c(\n",
    "  round(SBSoDMapErr2$p.value, digits = 3),\n",
    "  (round(SBSoDLandOmit2$p.value, digits = 3)),\n",
    "  (round(SBSoDRoadSeg2$p.value, digits = 3)),\n",
    "  (round(LandOmitRoadSeg2$p.value, digits = 3)),\n",
    "  (round(SBSoDAAS2$p.value, digits = 3)),\n",
    "  (round(SBSoDDist2$p.value, digits = 3)),\n",
    "  (round(MapErrAAS2$p.value, digits = 3)),\n",
    "  (round(MapErrDist2$p.value, digits = 3)),\n",
    "  (round(AASDist2$p.value, digits = 3))\n",
    ") "
   ]
  },
  {
   "cell_type": "code",
   "execution_count": 50,
   "id": "3c8a40eb",
   "metadata": {},
   "outputs": [],
   "source": [
    "#Builds the vector of p-values for rs estimates\n",
    "CorrelationsGroup2Table <- data.frame(\n",
    "  correlationsGroup2,\n",
    "  pvaluesGroup2\n",
    ") # Generates the content of Table 2 in the form of of data frame."
   ]
  },
  {
   "cell_type": "code",
   "execution_count": 51,
   "id": "e53f69ed",
   "metadata": {},
   "outputs": [
    {
     "data": {
      "text/html": [
       "<table class=\"dataframe\">\n",
       "<caption>A data.frame: 9 × 2</caption>\n",
       "<thead>\n",
       "\t<tr><th scope=col>correlationsGroup2</th><th scope=col>pvaluesGroup2</th></tr>\n",
       "\t<tr><th scope=col>&lt;dbl&gt;</th><th scope=col>&lt;dbl&gt;</th></tr>\n",
       "</thead>\n",
       "<tbody>\n",
       "\t<tr><td>-0.59</td><td>0.034</td></tr>\n",
       "\t<tr><td>-0.43</td><td>0.142</td></tr>\n",
       "\t<tr><td>-0.41</td><td>0.159</td></tr>\n",
       "\t<tr><td>-0.03</td><td>0.915</td></tr>\n",
       "\t<tr><td> 0.20</td><td>0.505</td></tr>\n",
       "\t<tr><td>-0.52</td><td>0.066</td></tr>\n",
       "\t<tr><td>-0.07</td><td>0.812</td></tr>\n",
       "\t<tr><td> 0.34</td><td>0.261</td></tr>\n",
       "\t<tr><td>-0.66</td><td>0.014</td></tr>\n",
       "</tbody>\n",
       "</table>\n"
      ],
      "text/latex": [
       "A data.frame: 9 × 2\n",
       "\\begin{tabular}{ll}\n",
       " correlationsGroup2 & pvaluesGroup2\\\\\n",
       " <dbl> & <dbl>\\\\\n",
       "\\hline\n",
       "\t -0.59 & 0.034\\\\\n",
       "\t -0.43 & 0.142\\\\\n",
       "\t -0.41 & 0.159\\\\\n",
       "\t -0.03 & 0.915\\\\\n",
       "\t  0.20 & 0.505\\\\\n",
       "\t -0.52 & 0.066\\\\\n",
       "\t -0.07 & 0.812\\\\\n",
       "\t  0.34 & 0.261\\\\\n",
       "\t -0.66 & 0.014\\\\\n",
       "\\end{tabular}\n"
      ],
      "text/markdown": [
       "\n",
       "A data.frame: 9 × 2\n",
       "\n",
       "| correlationsGroup2 &lt;dbl&gt; | pvaluesGroup2 &lt;dbl&gt; |\n",
       "|---|---|\n",
       "| -0.59 | 0.034 |\n",
       "| -0.43 | 0.142 |\n",
       "| -0.41 | 0.159 |\n",
       "| -0.03 | 0.915 |\n",
       "|  0.20 | 0.505 |\n",
       "| -0.52 | 0.066 |\n",
       "| -0.07 | 0.812 |\n",
       "|  0.34 | 0.261 |\n",
       "| -0.66 | 0.014 |\n",
       "\n"
      ],
      "text/plain": [
       "  correlationsGroup2 pvaluesGroup2\n",
       "1 -0.59              0.034        \n",
       "2 -0.43              0.142        \n",
       "3 -0.41              0.159        \n",
       "4 -0.03              0.915        \n",
       "5  0.20              0.505        \n",
       "6 -0.52              0.066        \n",
       "7 -0.07              0.812        \n",
       "8  0.34              0.261        \n",
       "9 -0.66              0.014        "
      ]
     },
     "metadata": {},
     "output_type": "display_data"
    }
   ],
   "source": [
    "CorrelationsGroup2Table"
   ]
  }
 ],
 "metadata": {
  "kernelspec": {
   "display_name": "R",
   "language": "R",
   "name": "ir"
  },
  "language_info": {
   "codemirror_mode": "r",
   "file_extension": ".r",
   "mimetype": "text/x-r-source",
   "name": "R",
   "pygments_lexer": "r",
   "version": "4.0.5"
  }
 },
 "nbformat": 4,
 "nbformat_minor": 5
}
